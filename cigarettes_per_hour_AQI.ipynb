{
 "cells": [
  {
   "cell_type": "markdown",
   "id": "3d802d1d",
   "metadata": {
    "id": "3d802d1d"
   },
   "source": [
    "# AQI to Cigarette Equivalent\n"
   ]
  },
  {
   "cell_type": "markdown",
   "id": "14bb5e6f",
   "metadata": {
    "id": "14bb5e6f"
   },
   "source": [
    "The concept of comparing air quality to the number of cigarettes smoked\n",
    "is a somewhat popular analogy to help people understand the potential health\n",
    "risks associated with poor air quality. However, the\n",
    "comparison is a simplification and has its limitations.\n",
    "\n",
    "One of the most commonly cited analogies comes from a study that equates the PM2.5 exposure from smoking a single cigarette to be approximately equivalent to a PM2.5 concentration of 22 µg/m³ over 24 hours.\n",
    "\n",
    "References: https://berkeleyearth.org/air-pollution-and-cigarette-equivalence/"
   ]
  },
  {
   "cell_type": "markdown",
   "id": "Un9uF2con1Nd",
   "metadata": {
    "id": "Un9uF2con1Nd"
   },
   "source": [
    "<!-- ##**Please save a copy of this notebook (File/Save a copy in Drive) before proceding!** -->"
   ]
  },
  {
   "cell_type": "code",
   "execution_count": 5,
   "id": "ea7b9fc4",
   "metadata": {},
   "outputs": [],
   "source": [
    "#!pip install ipywidgets requests > /dev/null 2>&1\n",
    "\n",
    "import requests\n",
    "import ipywidgets as widgets\n",
    "from IPython.display import display, clear_output"
   ]
  },
  {
   "cell_type": "code",
   "execution_count": 6,
   "id": "392886e4",
   "metadata": {},
   "outputs": [],
   "source": [
    "def fetch_aqi_from_zip(zip_code):\n",
    "    API_KEY = \"DBD2BF2A-95EB-4314-9D02-822859CDF790\"  # Embedding the provided API key\n",
    "    URL = f\"https://www.airnowapi.org/aq/observation/zipCode/current/?format=application/json&zipCode={zip_code}&distance=25&API_KEY={API_KEY}\"\n",
    "    response = requests.get(URL)\n",
    "    data = response.json()\n",
    "\n",
    "    # Extracting the PM2.5 AQI value\n",
    "    for entry in data:\n",
    "        if entry['ParameterName'] == 'PM2.5':\n",
    "            return entry['AQI']\n",
    "    return None  # Return None if no PM2.5 data found"
   ]
  },
  {
   "cell_type": "code",
   "execution_count": 7,
   "id": "4a5dc620",
   "metadata": {},
   "outputs": [],
   "source": [
    "def calculate_cigarette_and_AQI_with_activity(AQI_value, hours=1, activity=\"resting\"):\n",
    "    # Given values for AQI breakpoints and ventilation rates\n",
    "    breakpoints = {\n",
    "        \"Good\": {\"Low AQI\": 0, \"High AQI\": 50, \"Low Conc\": 0.0, \"High Conc\": 12.0},\n",
    "        \"Moderate\": {\"Low AQI\": 51, \"High AQI\": 100, \"Low Conc\": 12.1, \"High Conc\": 35.4},\n",
    "        \"Unhealthy for Sensitive Groups\": {\"Low AQI\": 101, \"High AQI\": 150, \"Low Conc\": 35.5, \"High Conc\": 55.4},\n",
    "        \"Unhealthy\": {\"Low AQI\": 151, \"High AQI\": 200, \"Low Conc\": 55.5, \"High Conc\": 150.4},\n",
    "        \"Very Unhealthy\": {\"Low AQI\": 201, \"High AQI\": 300, \"Low Conc\": 150.5, \"High Conc\": 250.4},\n",
    "        \"Hazardous\": {\"Low AQI\": 301, \"High AQI\": 500, \"Low Conc\": 250.5, \"High Conc\": 500.4},\n",
    "    }\n",
    "\n",
    "    ventilation_rates = {\n",
    "        \"breathing\": 7.5,\n",
    "        \"light activity\": 22.5,  # average of 15 and 30\n",
    "        \"running/cycling\": 60\n",
    "    }\n",
    "\n",
    "    # Determine the AQI category\n",
    "    category = next((k for k, v in breakpoints.items() if v[\"Low AQI\"] <= AQI_value <= v[\"High AQI\"]), None)\n",
    "\n",
    "    if not category:\n",
    "        return \"Invalid AQI value\"\n",
    "\n",
    "    # Extract values for the determined AQI category\n",
    "    low_AQI = breakpoints[category][\"Low AQI\"]\n",
    "    high_AQI = breakpoints[category][\"High AQI\"]\n",
    "    low_concentration = breakpoints[category][\"Low Conc\"]\n",
    "    high_concentration = breakpoints[category][\"High Conc\"]\n",
    "\n",
    "    # Calculate PM2.5 concentration using the AQI formula\n",
    "    concentration = ((AQI_value - low_AQI) * (high_concentration - low_concentration) / (high_AQI - low_AQI)) + low_concentration\n",
    "\n",
    "    # Adjust the concentration based on activity level\n",
    "    adjusted_concentration = concentration * ventilation_rates[activity] / ventilation_rates[\"breathing\"]\n",
    "\n",
    "    # Estimate the equivalent number of cigarettes for specified hours of exposure\n",
    "    cigarette_equivalent = adjusted_concentration * hours / (22 * 24)\n",
    "\n",
    "    # Create the summary sentences\n",
    "    AQI_summary = f\"The AQI value of {AQI_value} corresponds to a PM2.5 concentration of approximately {concentration:.2f} µg/m³.\"\n",
    "\n",
    "    if cigarette_equivalent < 1:\n",
    "        cigarette_summary = f\"A {hours}-hour exposure at this concentration while {activity} is roughly equivalent to smoking about {cigarette_equivalent*100:.2f}% of one cigarette.\"\n",
    "    else:\n",
    "        cigarette_summary = f\"A {hours}-hour exposure at this concentration while {activity} is roughly equivalent to smoking about {cigarette_equivalent:.2f} cigarettes.\"\n",
    "\n",
    "    return AQI_summary, cigarette_summary"
   ]
  },
  {
   "cell_type": "code",
   "execution_count": 12,
   "id": "25c7a4c7",
   "metadata": {
    "cellView": "form",
    "colab": {
     "base_uri": "https://localhost:8080/",
     "height": 177,
     "referenced_widgets": [
      "46aec68afd60403da928b2bfca52ee40",
      "c3fb3fc5415a4926aa89596b0444a7f9",
      "31f4e682f5374bcbbecb6676c6c184dd",
      "fe841b55593f4222a7a4024670e90f4e",
      "15e6d7c863694851be64f497281f99be",
      "14f055e9d82242528c4223f73b190716",
      "06e2b5c2c602482a88dc2ceb1d08992c",
      "54f7e303244042009102ee3d0d8d5733",
      "81ae224dca1449c699601e7998a0c7c4",
      "8fd70bd768884c0aab743c62847ecabd",
      "a057651fc08342cf9e26a364ae60f85c",
      "272396f4ec7447ef98e4765ef7335429"
     ]
    },
    "id": "25c7a4c7",
    "outputId": "af7cfa0d-71b9-4ba9-d36e-813c95e95b83"
   },
   "outputs": [
    {
     "name": "stderr",
     "output_type": "stream",
     "text": [
      "/var/folders/yb/b0lcxvcx4r3g8zfh98l7mbkw0000gq/T/ipykernel_69216/2123377787.py:3: DeprecationWarning: Importing display from IPython.core.display is deprecated since IPython 7.14, please import from IPython display\n",
      "  from IPython.core.display import display, HTML\n"
     ]
    },
    {
     "data": {
      "application/vnd.jupyter.widget-view+json": {
       "model_id": "1606bd9514034b569f59c521b4d8b414",
       "version_major": 2,
       "version_minor": 0
      },
      "text/plain": [
       "Text(value='', description='ZIP Code:', placeholder='Enter ZIP code')"
      ]
     },
     "metadata": {},
     "output_type": "display_data"
    },
    {
     "data": {
      "application/vnd.jupyter.widget-view+json": {
       "model_id": "1813b8331bb24493b1eda444fa4f7afa",
       "version_major": 2,
       "version_minor": 0
      },
      "text/plain": [
       "Dropdown(description='Activity:', options=('breathing', 'light activity', 'running/cycling'), value='breathing…"
      ]
     },
     "metadata": {},
     "output_type": "display_data"
    },
    {
     "data": {
      "application/vnd.jupyter.widget-view+json": {
       "model_id": "04360e17fb0842358f803780c7899ff8",
       "version_major": 2,
       "version_minor": 0
      },
      "text/plain": [
       "IntSlider(value=1, description='Hours:', max=24, min=1)"
      ]
     },
     "metadata": {},
     "output_type": "display_data"
    },
    {
     "data": {
      "application/vnd.jupyter.widget-view+json": {
       "model_id": "7de4d18123cd4c18b4fdb36a8a1fb81d",
       "version_major": 2,
       "version_minor": 0
      },
      "text/plain": [
       "Button(description='Calculate', style=ButtonStyle())"
      ]
     },
     "metadata": {},
     "output_type": "display_data"
    },
    {
     "data": {
      "application/vnd.jupyter.widget-view+json": {
       "model_id": "60e2c83b61574ad58c99609e3c1f7b8b",
       "version_major": 2,
       "version_minor": 0
      },
      "text/plain": [
       "Output()"
      ]
     },
     "metadata": {},
     "output_type": "display_data"
    }
   ],
   "source": [
    "import ipywidgets as widgets\n",
    "from IPython.display import display\n",
    "from IPython.core.display import display, HTML\n",
    "\n",
    "\n",
    "# Dropdown for activity level\n",
    "activity_widget = widgets.Dropdown(\n",
    "    options=['breathing', 'light activity', 'running/cycling'],\n",
    "    value='breathing',\n",
    "    description='Activity:'\n",
    ")\n",
    "\n",
    "# Slider for exposure time\n",
    "hours_widget = widgets.IntSlider(\n",
    "    value=1,\n",
    "    min=1,\n",
    "    max=24,\n",
    "    step=1,\n",
    "    description='Hours:'\n",
    ")\n",
    "\n",
    "# Text input for ZIP code\n",
    "zip_widget = widgets.Text(\n",
    "    value='',\n",
    "    placeholder='Enter ZIP code',\n",
    "    description='ZIP Code:'\n",
    ")\n",
    "\n",
    "button = widgets.Button(description=\"Calculate\")\n",
    "output = widgets.Output()\n",
    "\n",
    "def on_button_click(b):\n",
    "    # Fetch AQI data\n",
    "    AQI_value = fetch_aqi_from_zip(zip_widget.value)\n",
    "\n",
    "    # Calculate cigarette equivalent\n",
    "    AQI_summary, cigarette_summary = calculate_cigarette_and_AQI_with_activity(AQI_value, hours_widget.value, activity_widget.value)\n",
    "\n",
    "    with output:\n",
    "        clear_output(wait=True)\n",
    "        display(HTML('<span style=\"color: red\">{}</span>'.format(AQI_summary)))\n",
    "        display(HTML('<span style=\"color: red\">{}</span>'.format(cigarette_summary)))\n",
    "\n",
    "button.on_click(on_button_click)\n",
    "\n",
    "# Display the widgets for user input\n",
    "display(zip_widget, activity_widget, hours_widget, button, output)"
   ]
  },
  {
   "cell_type": "markdown",
   "id": "e0b77560",
   "metadata": {
    "id": "e0b77560"
   },
   "source": [
    "For the conversion from AQI to PM2.5 concentration:\n",
    "\n",
    "$$\n",
    "C = \\frac{(AQI - AQI_{low}) \\times (C_{high} - C_{low})}{AQI_{high} - AQI_{low}} + C_{low}\n",
    "$$\n",
    "\n",
    "Where:\n",
    "- $C$ is the PM2.5 Concentration in µg/m³ over 1 hour.\n",
    "- $AQI$ represents the Air Quality Index value.\n",
    "- $AQI_{low}$ and $AQI_{high}$ are the lower and upper bounds of the AQI range, respectively.\n",
    "- $C_{low}$ and $C_{high}$ are the PM2.5 concentration values corresponding to $AQI_{low}$ and $AQI_{high}$, respectively.\n",
    "\n",
    "**For PM2.5 in the \"Unhealthy\" range (AQI: 151-200):**\n",
    "\n",
    "- $AQI_{low}$: 151\n",
    "- $AQI_{high}$: 200\n",
    "- $C_{low}$: 35.5 µg/m³\n",
    "- $C_{high}$: 55.4 µg/m³\n",
    "\n",
    "To convert AQI exposure to the number of smoked cigarettes:\n",
    "\n",
    "$$\n",
    "\\text{Cigarette Equivalent (1 hour)} = \\frac{C}{PM2.5_{cigarette} \\times h}\n",
    "$$\n",
    "\n",
    "Where:\n",
    "- $PM2.5_{cigarette}$ represents the PM2.5 concentration equivalent for one cigarette, which is approximately 22 µg/m³ over a 24-hour period.\n",
    "\n",
    "- \\$h$ represents the number of hours in a day, considering continuous exposure, which is 24 hours.\n",
    "\n",
    "\n",
    "\n",
    "\n"
   ]
  },
  {
   "cell_type": "markdown",
   "id": "vMqGN6Wvmk4R",
   "metadata": {
    "id": "vMqGN6Wvmk4R"
   },
   "source": [
    "## Ventilation Rates and PM2.5 Exposure during Activities\n",
    "\n",
    "When exercising, especially during activities like running, the respiratory rate increases, leading to higher inhalation of the surrounding air. This means that the effective exposure to pollutants during exercise can be significantly higher than during periods of rest or light activity.\n",
    "\n",
    "A common way to quantify this is by looking at the **ventilation rate**, which is the volume of air inhaled (or exhaled) per minute. Here's a rough breakdown:\n",
    "\n",
    "- **Resting**: 6 to 7.5 liters of air per minute.<sup><a href=\"#ref1\" id=\"ref1-1\">1</a></sup>\n",
    "- **Light Activity**: 15 to 30 liters of air per minute.<sup><a href=\"#ref1\" id=\"ref1-2\">1</a></sup>\n",
    "- **Exercising (like running)**: Can be 60 liters per minute or higher, depending on the intensity.<sup><a href=\"#ref2\" id=\"ref2-1\">2</a></sup>\n",
    "\n",
    "If we make a simplifying assumption that the increase in the volume of air inhaled corresponds linearly to the increase in PM2.5 exposure, we can use these ventilation rates to adjust our calculations.\n",
    "\n",
    "For instance, if you're running, you might inhale 8-10 times more air (and hence PM2.5) per minute than when you're at rest.\n",
    "\n",
    "---\n",
    "\n",
    "**References**:\n",
    "\n",
    "<a id=\"ref1\"></a>1. West, J. B. (2012). Respiratory physiology: the essentials. Lippincott Williams & Wilkins.\n",
    "\n",
    "<a id=\"ref2\"></a>2. American College of Sports Medicine. (2013). ACSM's guidelines for exercise testing and prescription. Lippincott Williams & Wilkins.\n"
   ]
  }
 ],
 "metadata": {
  "colab": {
   "provenance": []
  },
  "kernelspec": {
   "display_name": "Python 3 (ipykernel)",
   "language": "python",
   "name": "python3"
  },
  "language_info": {
   "codemirror_mode": {
    "name": "ipython",
    "version": 3
   },
   "file_extension": ".py",
   "mimetype": "text/x-python",
   "name": "python",
   "nbconvert_exporter": "python",
   "pygments_lexer": "ipython3",
   "version": "3.9.12"
  },
  "widgets": {
   "application/vnd.jupyter.widget-state+json": {
    "06e2b5c2c602482a88dc2ceb1d08992c": {
     "model_module": "@jupyter-widgets/controls",
     "model_module_version": "1.5.0",
     "model_name": "IntSliderModel",
     "state": {
      "_dom_classes": [],
      "_model_module": "@jupyter-widgets/controls",
      "_model_module_version": "1.5.0",
      "_model_name": "IntSliderModel",
      "_view_count": null,
      "_view_module": "@jupyter-widgets/controls",
      "_view_module_version": "1.5.0",
      "_view_name": "IntSliderView",
      "continuous_update": true,
      "description": "Hours:",
      "description_tooltip": null,
      "disabled": false,
      "layout": "IPY_MODEL_54f7e303244042009102ee3d0d8d5733",
      "max": 24,
      "min": 1,
      "orientation": "horizontal",
      "readout": true,
      "readout_format": "d",
      "step": 1,
      "style": "IPY_MODEL_81ae224dca1449c699601e7998a0c7c4",
      "value": 4
     }
    },
    "14f055e9d82242528c4223f73b190716": {
     "model_module": "@jupyter-widgets/controls",
     "model_module_version": "1.5.0",
     "model_name": "DescriptionStyleModel",
     "state": {
      "_model_module": "@jupyter-widgets/controls",
      "_model_module_version": "1.5.0",
      "_model_name": "DescriptionStyleModel",
      "_view_count": null,
      "_view_module": "@jupyter-widgets/base",
      "_view_module_version": "1.2.0",
      "_view_name": "StyleView",
      "description_width": ""
     }
    },
    "15e6d7c863694851be64f497281f99be": {
     "model_module": "@jupyter-widgets/base",
     "model_module_version": "1.2.0",
     "model_name": "LayoutModel",
     "state": {
      "_model_module": "@jupyter-widgets/base",
      "_model_module_version": "1.2.0",
      "_model_name": "LayoutModel",
      "_view_count": null,
      "_view_module": "@jupyter-widgets/base",
      "_view_module_version": "1.2.0",
      "_view_name": "LayoutView",
      "align_content": null,
      "align_items": null,
      "align_self": null,
      "border": null,
      "bottom": null,
      "display": null,
      "flex": null,
      "flex_flow": null,
      "grid_area": null,
      "grid_auto_columns": null,
      "grid_auto_flow": null,
      "grid_auto_rows": null,
      "grid_column": null,
      "grid_gap": null,
      "grid_row": null,
      "grid_template_areas": null,
      "grid_template_columns": null,
      "grid_template_rows": null,
      "height": null,
      "justify_content": null,
      "justify_items": null,
      "left": null,
      "margin": null,
      "max_height": null,
      "max_width": null,
      "min_height": null,
      "min_width": null,
      "object_fit": null,
      "object_position": null,
      "order": null,
      "overflow": null,
      "overflow_x": null,
      "overflow_y": null,
      "padding": null,
      "right": null,
      "top": null,
      "visibility": null,
      "width": null
     }
    },
    "272396f4ec7447ef98e4765ef7335429": {
     "model_module": "@jupyter-widgets/controls",
     "model_module_version": "1.5.0",
     "model_name": "ButtonStyleModel",
     "state": {
      "_model_module": "@jupyter-widgets/controls",
      "_model_module_version": "1.5.0",
      "_model_name": "ButtonStyleModel",
      "_view_count": null,
      "_view_module": "@jupyter-widgets/base",
      "_view_module_version": "1.2.0",
      "_view_name": "StyleView",
      "button_color": null,
      "font_weight": ""
     }
    },
    "31f4e682f5374bcbbecb6676c6c184dd": {
     "model_module": "@jupyter-widgets/controls",
     "model_module_version": "1.5.0",
     "model_name": "DescriptionStyleModel",
     "state": {
      "_model_module": "@jupyter-widgets/controls",
      "_model_module_version": "1.5.0",
      "_model_name": "DescriptionStyleModel",
      "_view_count": null,
      "_view_module": "@jupyter-widgets/base",
      "_view_module_version": "1.2.0",
      "_view_name": "StyleView",
      "description_width": ""
     }
    },
    "46aec68afd60403da928b2bfca52ee40": {
     "model_module": "@jupyter-widgets/controls",
     "model_module_version": "1.5.0",
     "model_name": "TextModel",
     "state": {
      "_dom_classes": [],
      "_model_module": "@jupyter-widgets/controls",
      "_model_module_version": "1.5.0",
      "_model_name": "TextModel",
      "_view_count": null,
      "_view_module": "@jupyter-widgets/controls",
      "_view_module_version": "1.5.0",
      "_view_name": "TextView",
      "continuous_update": true,
      "description": "ZIP Code:",
      "description_tooltip": null,
      "disabled": false,
      "layout": "IPY_MODEL_c3fb3fc5415a4926aa89596b0444a7f9",
      "placeholder": "Enter ZIP code",
      "style": "IPY_MODEL_31f4e682f5374bcbbecb6676c6c184dd",
      "value": "94122"
     }
    },
    "54f7e303244042009102ee3d0d8d5733": {
     "model_module": "@jupyter-widgets/base",
     "model_module_version": "1.2.0",
     "model_name": "LayoutModel",
     "state": {
      "_model_module": "@jupyter-widgets/base",
      "_model_module_version": "1.2.0",
      "_model_name": "LayoutModel",
      "_view_count": null,
      "_view_module": "@jupyter-widgets/base",
      "_view_module_version": "1.2.0",
      "_view_name": "LayoutView",
      "align_content": null,
      "align_items": null,
      "align_self": null,
      "border": null,
      "bottom": null,
      "display": null,
      "flex": null,
      "flex_flow": null,
      "grid_area": null,
      "grid_auto_columns": null,
      "grid_auto_flow": null,
      "grid_auto_rows": null,
      "grid_column": null,
      "grid_gap": null,
      "grid_row": null,
      "grid_template_areas": null,
      "grid_template_columns": null,
      "grid_template_rows": null,
      "height": null,
      "justify_content": null,
      "justify_items": null,
      "left": null,
      "margin": null,
      "max_height": null,
      "max_width": null,
      "min_height": null,
      "min_width": null,
      "object_fit": null,
      "object_position": null,
      "order": null,
      "overflow": null,
      "overflow_x": null,
      "overflow_y": null,
      "padding": null,
      "right": null,
      "top": null,
      "visibility": null,
      "width": null
     }
    },
    "81ae224dca1449c699601e7998a0c7c4": {
     "model_module": "@jupyter-widgets/controls",
     "model_module_version": "1.5.0",
     "model_name": "SliderStyleModel",
     "state": {
      "_model_module": "@jupyter-widgets/controls",
      "_model_module_version": "1.5.0",
      "_model_name": "SliderStyleModel",
      "_view_count": null,
      "_view_module": "@jupyter-widgets/base",
      "_view_module_version": "1.2.0",
      "_view_name": "StyleView",
      "description_width": "",
      "handle_color": null
     }
    },
    "8fd70bd768884c0aab743c62847ecabd": {
     "model_module": "@jupyter-widgets/controls",
     "model_module_version": "1.5.0",
     "model_name": "ButtonModel",
     "state": {
      "_dom_classes": [],
      "_model_module": "@jupyter-widgets/controls",
      "_model_module_version": "1.5.0",
      "_model_name": "ButtonModel",
      "_view_count": null,
      "_view_module": "@jupyter-widgets/controls",
      "_view_module_version": "1.5.0",
      "_view_name": "ButtonView",
      "button_style": "",
      "description": "Calculate",
      "disabled": false,
      "icon": "",
      "layout": "IPY_MODEL_a057651fc08342cf9e26a364ae60f85c",
      "style": "IPY_MODEL_272396f4ec7447ef98e4765ef7335429",
      "tooltip": ""
     }
    },
    "a057651fc08342cf9e26a364ae60f85c": {
     "model_module": "@jupyter-widgets/base",
     "model_module_version": "1.2.0",
     "model_name": "LayoutModel",
     "state": {
      "_model_module": "@jupyter-widgets/base",
      "_model_module_version": "1.2.0",
      "_model_name": "LayoutModel",
      "_view_count": null,
      "_view_module": "@jupyter-widgets/base",
      "_view_module_version": "1.2.0",
      "_view_name": "LayoutView",
      "align_content": null,
      "align_items": null,
      "align_self": null,
      "border": null,
      "bottom": null,
      "display": null,
      "flex": null,
      "flex_flow": null,
      "grid_area": null,
      "grid_auto_columns": null,
      "grid_auto_flow": null,
      "grid_auto_rows": null,
      "grid_column": null,
      "grid_gap": null,
      "grid_row": null,
      "grid_template_areas": null,
      "grid_template_columns": null,
      "grid_template_rows": null,
      "height": null,
      "justify_content": null,
      "justify_items": null,
      "left": null,
      "margin": null,
      "max_height": null,
      "max_width": null,
      "min_height": null,
      "min_width": null,
      "object_fit": null,
      "object_position": null,
      "order": null,
      "overflow": null,
      "overflow_x": null,
      "overflow_y": null,
      "padding": null,
      "right": null,
      "top": null,
      "visibility": null,
      "width": null
     }
    },
    "c3fb3fc5415a4926aa89596b0444a7f9": {
     "model_module": "@jupyter-widgets/base",
     "model_module_version": "1.2.0",
     "model_name": "LayoutModel",
     "state": {
      "_model_module": "@jupyter-widgets/base",
      "_model_module_version": "1.2.0",
      "_model_name": "LayoutModel",
      "_view_count": null,
      "_view_module": "@jupyter-widgets/base",
      "_view_module_version": "1.2.0",
      "_view_name": "LayoutView",
      "align_content": null,
      "align_items": null,
      "align_self": null,
      "border": null,
      "bottom": null,
      "display": null,
      "flex": null,
      "flex_flow": null,
      "grid_area": null,
      "grid_auto_columns": null,
      "grid_auto_flow": null,
      "grid_auto_rows": null,
      "grid_column": null,
      "grid_gap": null,
      "grid_row": null,
      "grid_template_areas": null,
      "grid_template_columns": null,
      "grid_template_rows": null,
      "height": null,
      "justify_content": null,
      "justify_items": null,
      "left": null,
      "margin": null,
      "max_height": null,
      "max_width": null,
      "min_height": null,
      "min_width": null,
      "object_fit": null,
      "object_position": null,
      "order": null,
      "overflow": null,
      "overflow_x": null,
      "overflow_y": null,
      "padding": null,
      "right": null,
      "top": null,
      "visibility": null,
      "width": null
     }
    },
    "fe841b55593f4222a7a4024670e90f4e": {
     "model_module": "@jupyter-widgets/controls",
     "model_module_version": "1.5.0",
     "model_name": "DropdownModel",
     "state": {
      "_dom_classes": [],
      "_model_module": "@jupyter-widgets/controls",
      "_model_module_version": "1.5.0",
      "_model_name": "DropdownModel",
      "_options_labels": [
       "breathing",
       "light activity",
       "running/cycling"
      ],
      "_view_count": null,
      "_view_module": "@jupyter-widgets/controls",
      "_view_module_version": "1.5.0",
      "_view_name": "DropdownView",
      "description": "Activity:",
      "description_tooltip": null,
      "disabled": false,
      "index": 2,
      "layout": "IPY_MODEL_15e6d7c863694851be64f497281f99be",
      "style": "IPY_MODEL_14f055e9d82242528c4223f73b190716"
     }
    }
   }
  }
 },
 "nbformat": 4,
 "nbformat_minor": 5
}
